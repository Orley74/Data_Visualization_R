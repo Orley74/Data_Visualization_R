{
 "cells": [
  {
   "cell_type": "code",
   "execution_count": null,
   "id": "4e2a7c70",
   "metadata": {},
   "outputs": [],
   "source": [
    "# Chwaszcz Kacper WCY20IK1S0\n",
    "# Zadanie 2 wykonane zostało niżej, pod zadaniem 1"
   ]
  },
  {
   "cell_type": "code",
   "execution_count": null,
   "id": "279f8de8",
   "metadata": {},
   "outputs": [],
   "source": [
    "# Zad 1"
   ]
  },
  {
   "cell_type": "code",
   "execution_count": 3,
   "id": "a1728803",
   "metadata": {},
   "outputs": [],
   "source": [
    "# pobranie danych\n",
    "library(datasets)\n",
    "data(\"LifeCycleSavings\")\n"
   ]
  },
  {
   "cell_type": "code",
   "execution_count": 76,
   "id": "2e04046f",
   "metadata": {},
   "outputs": [],
   "source": [
    "# sortowanie względem populacji poniżej 15 roku życia\n",
    "sorted_by_pop15_mal <- LifeCycleSavings[order(-LifeCycleSavings$pop15), ]\n",
    "sorted_by_pop15_ros <- LifeCycleSavings[order(LifeCycleSavings$pop15), ]"
   ]
  },
  {
   "cell_type": "code",
   "execution_count": 43,
   "id": "e09d1fbc",
   "metadata": {},
   "outputs": [
    {
     "data": {
      "text/html": [
       "<table>\n",
       "<thead><tr><th></th><th scope=col>sr</th><th scope=col>pop15</th><th scope=col>pop75</th><th scope=col>dpi</th><th scope=col>ddpi</th></tr></thead>\n",
       "<tbody>\n",
       "\t<tr><th scope=row>Costa Rica</th><td>10.78  </td><td>47.64  </td><td>1.14   </td><td> 471.24</td><td> 2.80  </td></tr>\n",
       "\t<tr><th scope=row>Honduras</th><td> 7.70  </td><td>47.32  </td><td>0.58   </td><td> 232.44</td><td> 3.19  </td></tr>\n",
       "\t<tr><th scope=row>Malaysia</th><td> 4.71  </td><td>47.20  </td><td>0.66   </td><td> 242.69</td><td> 5.08  </td></tr>\n",
       "\t<tr><th scope=row>Colombia</th><td> 4.98  </td><td>46.64  </td><td>1.06   </td><td> 276.65</td><td> 3.08  </td></tr>\n",
       "\t<tr><th scope=row>Venezuela</th><td> 9.22  </td><td>46.40  </td><td>0.90   </td><td> 813.39</td><td> 0.53  </td></tr>\n",
       "\t<tr><th scope=row>Ecuador</th><td> 3.59  </td><td>46.31  </td><td>1.19   </td><td> 287.77</td><td> 2.19  </td></tr>\n",
       "\t<tr><th scope=row>Philippines</th><td>12.78  </td><td>46.26  </td><td>1.12   </td><td> 152.01</td><td> 2.00  </td></tr>\n",
       "\t<tr><th scope=row>Tunisia</th><td> 2.81  </td><td>46.12  </td><td>1.21   </td><td> 249.87</td><td> 1.13  </td></tr>\n",
       "\t<tr><th scope=row>Guatamala</th><td> 3.01  </td><td>46.05  </td><td>0.87   </td><td> 289.71</td><td> 1.48  </td></tr>\n",
       "\t<tr><th scope=row>Zambia</th><td>18.56  </td><td>45.25  </td><td>0.56   </td><td> 138.33</td><td> 5.14  </td></tr>\n",
       "\t<tr><th scope=row>Nicaragua</th><td> 7.30  </td><td>45.04  </td><td>1.21   </td><td> 325.54</td><td> 2.48  </td></tr>\n",
       "\t<tr><th scope=row>China</th><td>11.90  </td><td>44.75  </td><td>0.67   </td><td> 289.52</td><td> 6.51  </td></tr>\n",
       "\t<tr><th scope=row>Peru</th><td>12.70  </td><td>44.19  </td><td>1.28   </td><td> 400.06</td><td> 0.67  </td></tr>\n",
       "\t<tr><th scope=row>Libya</th><td> 8.89  </td><td>43.69  </td><td>2.07   </td><td> 123.58</td><td>16.71  </td></tr>\n",
       "\t<tr><th scope=row>Panama</th><td> 4.44  </td><td>43.56  </td><td>1.20   </td><td> 568.56</td><td> 3.61  </td></tr>\n",
       "\t<tr><th scope=row>Turkey</th><td> 5.13  </td><td>43.42  </td><td>1.08   </td><td> 389.66</td><td> 2.96  </td></tr>\n",
       "\t<tr><th scope=row>Brazil</th><td>12.88  </td><td>42.19  </td><td>0.83   </td><td> 728.47</td><td> 4.56  </td></tr>\n",
       "\t<tr><th scope=row>Bolivia</th><td> 5.75  </td><td>41.89  </td><td>1.67   </td><td> 189.13</td><td> 0.22  </td></tr>\n",
       "\t<tr><th scope=row>Korea</th><td> 3.98  </td><td>41.74  </td><td>0.91   </td><td> 207.68</td><td> 5.81  </td></tr>\n",
       "\t<tr><th scope=row>India</th><td> 9.00  </td><td>41.31  </td><td>0.96   </td><td>  88.94</td><td> 1.54  </td></tr>\n",
       "\t<tr><th scope=row>Paraguay</th><td> 2.02  </td><td>41.18  </td><td>1.05   </td><td> 220.56</td><td> 1.03  </td></tr>\n",
       "\t<tr><th scope=row>Jamaica</th><td> 7.72  </td><td>41.12  </td><td>1.73   </td><td> 380.47</td><td>10.23  </td></tr>\n",
       "\t<tr><th scope=row>Chile</th><td> 0.60  </td><td>39.74  </td><td>1.34   </td><td> 662.86</td><td> 2.67  </td></tr>\n",
       "\t<tr><th scope=row>Iceland</th><td> 1.27  </td><td>34.03  </td><td>3.08   </td><td>1900.10</td><td> 1.12  </td></tr>\n",
       "\t<tr><th scope=row>New Zealand</th><td>10.67  </td><td>32.61  </td><td>3.17   </td><td>1487.52</td><td> 1.76  </td></tr>\n",
       "\t<tr><th scope=row>Malta</th><td>15.48  </td><td>32.54  </td><td>2.47   </td><td> 601.05</td><td> 8.12  </td></tr>\n",
       "\t<tr><th scope=row>South Africa</th><td>11.14  </td><td>31.94  </td><td>2.28   </td><td> 651.11</td><td> 2.19  </td></tr>\n",
       "\t<tr><th scope=row>South Rhodesia</th><td>13.30  </td><td>31.92  </td><td>1.52   </td><td> 250.96</td><td> 2.00  </td></tr>\n",
       "\t<tr><th scope=row>Canada</th><td> 8.79  </td><td>31.72  </td><td>2.85   </td><td>2982.88</td><td> 2.43  </td></tr>\n",
       "\t<tr><th scope=row>Ireland</th><td>11.34  </td><td>31.16  </td><td>4.19   </td><td>1139.95</td><td> 2.99  </td></tr>\n",
       "\t<tr><th scope=row>United States</th><td> 7.56  </td><td>29.81  </td><td>3.43   </td><td>4001.89</td><td> 2.45  </td></tr>\n",
       "\t<tr><th scope=row>Australia</th><td>11.43  </td><td>29.35  </td><td>2.87   </td><td>2329.68</td><td> 2.87  </td></tr>\n",
       "\t<tr><th scope=row>Portugal</th><td>12.49  </td><td>28.96  </td><td>2.85   </td><td> 579.51</td><td> 7.48  </td></tr>\n",
       "\t<tr><th scope=row>Uruguay</th><td> 9.24  </td><td>28.13  </td><td>2.72   </td><td> 766.54</td><td> 1.88  </td></tr>\n",
       "\t<tr><th scope=row>Finland</th><td>11.24  </td><td>27.84  </td><td>2.37   </td><td>1681.25</td><td> 4.32  </td></tr>\n",
       "\t<tr><th scope=row>Spain</th><td>11.77  </td><td>27.74  </td><td>2.87   </td><td> 768.79</td><td> 4.35  </td></tr>\n",
       "\t<tr><th scope=row>Japan</th><td>21.10  </td><td>27.01  </td><td>1.91   </td><td>1257.28</td><td> 8.21  </td></tr>\n",
       "\t<tr><th scope=row>Norway</th><td>10.25  </td><td>25.95  </td><td>3.67   </td><td>2231.03</td><td> 3.62  </td></tr>\n",
       "\t<tr><th scope=row>Greece</th><td>10.67  </td><td>25.62  </td><td>3.10   </td><td> 870.85</td><td> 6.28  </td></tr>\n",
       "\t<tr><th scope=row>France</th><td>12.64  </td><td>25.06  </td><td>4.70   </td><td>2213.82</td><td> 4.52  </td></tr>\n",
       "\t<tr><th scope=row>Netherlands</th><td>14.65  </td><td>24.71  </td><td>3.25   </td><td>1740.70</td><td> 7.66  </td></tr>\n",
       "\t<tr><th scope=row>Italy</th><td>14.28  </td><td>24.52  </td><td>3.48   </td><td>1390.00</td><td> 3.54  </td></tr>\n",
       "\t<tr><th scope=row>Denmark</th><td>16.85  </td><td>24.42  </td><td>3.93   </td><td>2496.53</td><td> 3.99  </td></tr>\n",
       "\t<tr><th scope=row>Belgium</th><td>13.17  </td><td>23.80  </td><td>4.43   </td><td>2108.47</td><td> 3.82  </td></tr>\n",
       "\t<tr><th scope=row>Switzerland</th><td>14.13  </td><td>23.49  </td><td>3.73   </td><td>2630.96</td><td> 2.70  </td></tr>\n",
       "\t<tr><th scope=row>Austria</th><td>12.07  </td><td>23.32  </td><td>4.41   </td><td>1507.99</td><td> 3.93  </td></tr>\n",
       "\t<tr><th scope=row>Germany</th><td>12.55  </td><td>23.31  </td><td>3.35   </td><td>2457.12</td><td> 3.44  </td></tr>\n",
       "\t<tr><th scope=row>United Kingdom</th><td> 7.81  </td><td>23.27  </td><td>4.46   </td><td>1813.93</td><td> 2.01  </td></tr>\n",
       "\t<tr><th scope=row>Luxembourg</th><td>10.35  </td><td>21.80  </td><td>3.73   </td><td>2449.39</td><td> 1.57  </td></tr>\n",
       "\t<tr><th scope=row>Sweden</th><td> 6.86  </td><td>21.44  </td><td>4.54   </td><td>3299.49</td><td> 3.01  </td></tr>\n",
       "</tbody>\n",
       "</table>\n"
      ],
      "text/latex": [
       "\\begin{tabular}{r|lllll}\n",
       "  & sr & pop15 & pop75 & dpi & ddpi\\\\\n",
       "\\hline\n",
       "\tCosta Rica & 10.78   & 47.64   & 1.14    &  471.24 &  2.80  \\\\\n",
       "\tHonduras &  7.70   & 47.32   & 0.58    &  232.44 &  3.19  \\\\\n",
       "\tMalaysia &  4.71   & 47.20   & 0.66    &  242.69 &  5.08  \\\\\n",
       "\tColombia &  4.98   & 46.64   & 1.06    &  276.65 &  3.08  \\\\\n",
       "\tVenezuela &  9.22   & 46.40   & 0.90    &  813.39 &  0.53  \\\\\n",
       "\tEcuador &  3.59   & 46.31   & 1.19    &  287.77 &  2.19  \\\\\n",
       "\tPhilippines & 12.78   & 46.26   & 1.12    &  152.01 &  2.00  \\\\\n",
       "\tTunisia &  2.81   & 46.12   & 1.21    &  249.87 &  1.13  \\\\\n",
       "\tGuatamala &  3.01   & 46.05   & 0.87    &  289.71 &  1.48  \\\\\n",
       "\tZambia & 18.56   & 45.25   & 0.56    &  138.33 &  5.14  \\\\\n",
       "\tNicaragua &  7.30   & 45.04   & 1.21    &  325.54 &  2.48  \\\\\n",
       "\tChina & 11.90   & 44.75   & 0.67    &  289.52 &  6.51  \\\\\n",
       "\tPeru & 12.70   & 44.19   & 1.28    &  400.06 &  0.67  \\\\\n",
       "\tLibya &  8.89   & 43.69   & 2.07    &  123.58 & 16.71  \\\\\n",
       "\tPanama &  4.44   & 43.56   & 1.20    &  568.56 &  3.61  \\\\\n",
       "\tTurkey &  5.13   & 43.42   & 1.08    &  389.66 &  2.96  \\\\\n",
       "\tBrazil & 12.88   & 42.19   & 0.83    &  728.47 &  4.56  \\\\\n",
       "\tBolivia &  5.75   & 41.89   & 1.67    &  189.13 &  0.22  \\\\\n",
       "\tKorea &  3.98   & 41.74   & 0.91    &  207.68 &  5.81  \\\\\n",
       "\tIndia &  9.00   & 41.31   & 0.96    &   88.94 &  1.54  \\\\\n",
       "\tParaguay &  2.02   & 41.18   & 1.05    &  220.56 &  1.03  \\\\\n",
       "\tJamaica &  7.72   & 41.12   & 1.73    &  380.47 & 10.23  \\\\\n",
       "\tChile &  0.60   & 39.74   & 1.34    &  662.86 &  2.67  \\\\\n",
       "\tIceland &  1.27   & 34.03   & 3.08    & 1900.10 &  1.12  \\\\\n",
       "\tNew Zealand & 10.67   & 32.61   & 3.17    & 1487.52 &  1.76  \\\\\n",
       "\tMalta & 15.48   & 32.54   & 2.47    &  601.05 &  8.12  \\\\\n",
       "\tSouth Africa & 11.14   & 31.94   & 2.28    &  651.11 &  2.19  \\\\\n",
       "\tSouth Rhodesia & 13.30   & 31.92   & 1.52    &  250.96 &  2.00  \\\\\n",
       "\tCanada &  8.79   & 31.72   & 2.85    & 2982.88 &  2.43  \\\\\n",
       "\tIreland & 11.34   & 31.16   & 4.19    & 1139.95 &  2.99  \\\\\n",
       "\tUnited States &  7.56   & 29.81   & 3.43    & 4001.89 &  2.45  \\\\\n",
       "\tAustralia & 11.43   & 29.35   & 2.87    & 2329.68 &  2.87  \\\\\n",
       "\tPortugal & 12.49   & 28.96   & 2.85    &  579.51 &  7.48  \\\\\n",
       "\tUruguay &  9.24   & 28.13   & 2.72    &  766.54 &  1.88  \\\\\n",
       "\tFinland & 11.24   & 27.84   & 2.37    & 1681.25 &  4.32  \\\\\n",
       "\tSpain & 11.77   & 27.74   & 2.87    &  768.79 &  4.35  \\\\\n",
       "\tJapan & 21.10   & 27.01   & 1.91    & 1257.28 &  8.21  \\\\\n",
       "\tNorway & 10.25   & 25.95   & 3.67    & 2231.03 &  3.62  \\\\\n",
       "\tGreece & 10.67   & 25.62   & 3.10    &  870.85 &  6.28  \\\\\n",
       "\tFrance & 12.64   & 25.06   & 4.70    & 2213.82 &  4.52  \\\\\n",
       "\tNetherlands & 14.65   & 24.71   & 3.25    & 1740.70 &  7.66  \\\\\n",
       "\tItaly & 14.28   & 24.52   & 3.48    & 1390.00 &  3.54  \\\\\n",
       "\tDenmark & 16.85   & 24.42   & 3.93    & 2496.53 &  3.99  \\\\\n",
       "\tBelgium & 13.17   & 23.80   & 4.43    & 2108.47 &  3.82  \\\\\n",
       "\tSwitzerland & 14.13   & 23.49   & 3.73    & 2630.96 &  2.70  \\\\\n",
       "\tAustria & 12.07   & 23.32   & 4.41    & 1507.99 &  3.93  \\\\\n",
       "\tGermany & 12.55   & 23.31   & 3.35    & 2457.12 &  3.44  \\\\\n",
       "\tUnited Kingdom &  7.81   & 23.27   & 4.46    & 1813.93 &  2.01  \\\\\n",
       "\tLuxembourg & 10.35   & 21.80   & 3.73    & 2449.39 &  1.57  \\\\\n",
       "\tSweden &  6.86   & 21.44   & 4.54    & 3299.49 &  3.01  \\\\\n",
       "\\end{tabular}\n"
      ],
      "text/markdown": [
       "\n",
       "| <!--/--> | sr | pop15 | pop75 | dpi | ddpi | \n",
       "|---|---|---|---|---|---|---|---|---|---|---|---|---|---|---|---|---|---|---|---|---|---|---|---|---|---|---|---|---|---|---|---|---|---|---|---|---|---|---|---|---|---|---|---|---|---|---|---|---|---|\n",
       "| Costa Rica | 10.78   | 47.64   | 1.14    |  471.24 |  2.80   | \n",
       "| Honduras |  7.70   | 47.32   | 0.58    |  232.44 |  3.19   | \n",
       "| Malaysia |  4.71   | 47.20   | 0.66    |  242.69 |  5.08   | \n",
       "| Colombia |  4.98   | 46.64   | 1.06    |  276.65 |  3.08   | \n",
       "| Venezuela |  9.22   | 46.40   | 0.90    |  813.39 |  0.53   | \n",
       "| Ecuador |  3.59   | 46.31   | 1.19    |  287.77 |  2.19   | \n",
       "| Philippines | 12.78   | 46.26   | 1.12    |  152.01 |  2.00   | \n",
       "| Tunisia |  2.81   | 46.12   | 1.21    |  249.87 |  1.13   | \n",
       "| Guatamala |  3.01   | 46.05   | 0.87    |  289.71 |  1.48   | \n",
       "| Zambia | 18.56   | 45.25   | 0.56    |  138.33 |  5.14   | \n",
       "| Nicaragua |  7.30   | 45.04   | 1.21    |  325.54 |  2.48   | \n",
       "| China | 11.90   | 44.75   | 0.67    |  289.52 |  6.51   | \n",
       "| Peru | 12.70   | 44.19   | 1.28    |  400.06 |  0.67   | \n",
       "| Libya |  8.89   | 43.69   | 2.07    |  123.58 | 16.71   | \n",
       "| Panama |  4.44   | 43.56   | 1.20    |  568.56 |  3.61   | \n",
       "| Turkey |  5.13   | 43.42   | 1.08    |  389.66 |  2.96   | \n",
       "| Brazil | 12.88   | 42.19   | 0.83    |  728.47 |  4.56   | \n",
       "| Bolivia |  5.75   | 41.89   | 1.67    |  189.13 |  0.22   | \n",
       "| Korea |  3.98   | 41.74   | 0.91    |  207.68 |  5.81   | \n",
       "| India |  9.00   | 41.31   | 0.96    |   88.94 |  1.54   | \n",
       "| Paraguay |  2.02   | 41.18   | 1.05    |  220.56 |  1.03   | \n",
       "| Jamaica |  7.72   | 41.12   | 1.73    |  380.47 | 10.23   | \n",
       "| Chile |  0.60   | 39.74   | 1.34    |  662.86 |  2.67   | \n",
       "| Iceland |  1.27   | 34.03   | 3.08    | 1900.10 |  1.12   | \n",
       "| New Zealand | 10.67   | 32.61   | 3.17    | 1487.52 |  1.76   | \n",
       "| Malta | 15.48   | 32.54   | 2.47    |  601.05 |  8.12   | \n",
       "| South Africa | 11.14   | 31.94   | 2.28    |  651.11 |  2.19   | \n",
       "| South Rhodesia | 13.30   | 31.92   | 1.52    |  250.96 |  2.00   | \n",
       "| Canada |  8.79   | 31.72   | 2.85    | 2982.88 |  2.43   | \n",
       "| Ireland | 11.34   | 31.16   | 4.19    | 1139.95 |  2.99   | \n",
       "| United States |  7.56   | 29.81   | 3.43    | 4001.89 |  2.45   | \n",
       "| Australia | 11.43   | 29.35   | 2.87    | 2329.68 |  2.87   | \n",
       "| Portugal | 12.49   | 28.96   | 2.85    |  579.51 |  7.48   | \n",
       "| Uruguay |  9.24   | 28.13   | 2.72    |  766.54 |  1.88   | \n",
       "| Finland | 11.24   | 27.84   | 2.37    | 1681.25 |  4.32   | \n",
       "| Spain | 11.77   | 27.74   | 2.87    |  768.79 |  4.35   | \n",
       "| Japan | 21.10   | 27.01   | 1.91    | 1257.28 |  8.21   | \n",
       "| Norway | 10.25   | 25.95   | 3.67    | 2231.03 |  3.62   | \n",
       "| Greece | 10.67   | 25.62   | 3.10    |  870.85 |  6.28   | \n",
       "| France | 12.64   | 25.06   | 4.70    | 2213.82 |  4.52   | \n",
       "| Netherlands | 14.65   | 24.71   | 3.25    | 1740.70 |  7.66   | \n",
       "| Italy | 14.28   | 24.52   | 3.48    | 1390.00 |  3.54   | \n",
       "| Denmark | 16.85   | 24.42   | 3.93    | 2496.53 |  3.99   | \n",
       "| Belgium | 13.17   | 23.80   | 4.43    | 2108.47 |  3.82   | \n",
       "| Switzerland | 14.13   | 23.49   | 3.73    | 2630.96 |  2.70   | \n",
       "| Austria | 12.07   | 23.32   | 4.41    | 1507.99 |  3.93   | \n",
       "| Germany | 12.55   | 23.31   | 3.35    | 2457.12 |  3.44   | \n",
       "| United Kingdom |  7.81   | 23.27   | 4.46    | 1813.93 |  2.01   | \n",
       "| Luxembourg | 10.35   | 21.80   | 3.73    | 2449.39 |  1.57   | \n",
       "| Sweden |  6.86   | 21.44   | 4.54    | 3299.49 |  3.01   | \n",
       "\n",
       "\n"
      ],
      "text/plain": [
       "               sr    pop15 pop75 dpi     ddpi \n",
       "Costa Rica     10.78 47.64 1.14   471.24  2.80\n",
       "Honduras        7.70 47.32 0.58   232.44  3.19\n",
       "Malaysia        4.71 47.20 0.66   242.69  5.08\n",
       "Colombia        4.98 46.64 1.06   276.65  3.08\n",
       "Venezuela       9.22 46.40 0.90   813.39  0.53\n",
       "Ecuador         3.59 46.31 1.19   287.77  2.19\n",
       "Philippines    12.78 46.26 1.12   152.01  2.00\n",
       "Tunisia         2.81 46.12 1.21   249.87  1.13\n",
       "Guatamala       3.01 46.05 0.87   289.71  1.48\n",
       "Zambia         18.56 45.25 0.56   138.33  5.14\n",
       "Nicaragua       7.30 45.04 1.21   325.54  2.48\n",
       "China          11.90 44.75 0.67   289.52  6.51\n",
       "Peru           12.70 44.19 1.28   400.06  0.67\n",
       "Libya           8.89 43.69 2.07   123.58 16.71\n",
       "Panama          4.44 43.56 1.20   568.56  3.61\n",
       "Turkey          5.13 43.42 1.08   389.66  2.96\n",
       "Brazil         12.88 42.19 0.83   728.47  4.56\n",
       "Bolivia         5.75 41.89 1.67   189.13  0.22\n",
       "Korea           3.98 41.74 0.91   207.68  5.81\n",
       "India           9.00 41.31 0.96    88.94  1.54\n",
       "Paraguay        2.02 41.18 1.05   220.56  1.03\n",
       "Jamaica         7.72 41.12 1.73   380.47 10.23\n",
       "Chile           0.60 39.74 1.34   662.86  2.67\n",
       "Iceland         1.27 34.03 3.08  1900.10  1.12\n",
       "New Zealand    10.67 32.61 3.17  1487.52  1.76\n",
       "Malta          15.48 32.54 2.47   601.05  8.12\n",
       "South Africa   11.14 31.94 2.28   651.11  2.19\n",
       "South Rhodesia 13.30 31.92 1.52   250.96  2.00\n",
       "Canada          8.79 31.72 2.85  2982.88  2.43\n",
       "Ireland        11.34 31.16 4.19  1139.95  2.99\n",
       "United States   7.56 29.81 3.43  4001.89  2.45\n",
       "Australia      11.43 29.35 2.87  2329.68  2.87\n",
       "Portugal       12.49 28.96 2.85   579.51  7.48\n",
       "Uruguay         9.24 28.13 2.72   766.54  1.88\n",
       "Finland        11.24 27.84 2.37  1681.25  4.32\n",
       "Spain          11.77 27.74 2.87   768.79  4.35\n",
       "Japan          21.10 27.01 1.91  1257.28  8.21\n",
       "Norway         10.25 25.95 3.67  2231.03  3.62\n",
       "Greece         10.67 25.62 3.10   870.85  6.28\n",
       "France         12.64 25.06 4.70  2213.82  4.52\n",
       "Netherlands    14.65 24.71 3.25  1740.70  7.66\n",
       "Italy          14.28 24.52 3.48  1390.00  3.54\n",
       "Denmark        16.85 24.42 3.93  2496.53  3.99\n",
       "Belgium        13.17 23.80 4.43  2108.47  3.82\n",
       "Switzerland    14.13 23.49 3.73  2630.96  2.70\n",
       "Austria        12.07 23.32 4.41  1507.99  3.93\n",
       "Germany        12.55 23.31 3.35  2457.12  3.44\n",
       "United Kingdom  7.81 23.27 4.46  1813.93  2.01\n",
       "Luxembourg     10.35 21.80 3.73  2449.39  1.57\n",
       "Sweden          6.86 21.44 4.54  3299.49  3.01"
      ]
     },
     "metadata": {},
     "output_type": "display_data"
    }
   ],
   "source": [
    "sorted_by_pop15_mal"
   ]
  },
  {
   "cell_type": "code",
   "execution_count": null,
   "id": "f988fef6",
   "metadata": {},
   "outputs": [],
   "source": []
  },
  {
   "cell_type": "code",
   "execution_count": 107,
   "id": "13849dfb",
   "metadata": {},
   "outputs": [
    {
     "data": {
      "image/png": "[encoded data removed]",
      "text/plain": [
       "plot without title"
      ]
     },
     "metadata": {},
     "output_type": "display_data"
    }
   ],
   "source": [
    "#Ustawiam przesunięcie wykresu (od lewej,prawej,dołu,góry)\n",
    "par(plt = c(0.1, 0.41, 0.2 , 0.9)) \n",
    "\n",
    "#rbind - łączenie elementów po wierszach\n",
    "#xlim,ylim - ograniczenie wykresu do wartości\n",
    "#las - pionowe etykiety na osi x\n",
    "#cex.names - wielkosc czcionki etykiet na osi x\n",
    "#beside - wyglad wykresu, wartość true mowi że beda one przyklejone do siebie\n",
    "\n",
    "\n",
    "barplot(rbind(sorted_by_pop15_mal[, 'pop15'], sorted_by_pop15_mal[, 'dpi']), \n",
    "        beside=TRUE, xlim=c(0, 10), ylim=c(0, 900), names.arg=rownames(sorted_by_pop15_mal),las=2, cex.names =0.6)\n",
    "\n",
    "#Wykres 1. Dpi 10 krajów z największą ludnością poniżej 15 roku życia"
   ]
  },
  {
   "cell_type": "code",
   "execution_count": null,
   "id": "acc60d62",
   "metadata": {},
   "outputs": [],
   "source": [
    "#Można stąd wyciągnąć wniosek, że w biednych krajach rodzi się znacznie więcej dzieci,\n",
    "#niż w krajach rozwiniętych co potwierdza wykres poniżej."
   ]
  },
  {
   "cell_type": "code",
   "execution_count": 106,
   "id": "68b4705d",
   "metadata": {},
   "outputs": [
    {
     "data": {
      "image/png": "[encoded data removed]",
      "text/plain": [
       "plot without title"
      ]
     },
     "metadata": {},
     "output_type": "display_data"
    }
   ],
   "source": [
    "par(plt = c(0.1, 0.41, 0.2 , 0.9))\n",
    "\n",
    "barplot(rbind(sorted_by_pop15_ros[, 'pop15'], sorted_by_pop15_ros[, 'dpi']), beside=TRUE, xlim=c(0, 10),\n",
    "        ylim=c(0, 4000), names.arg=rownames(sorted_by_pop15_ros),las=2, cex.names =0.6\n",
    "       )\n",
    "#Wykres 2. Dpi 10 krajów z najmniejszą ludnością poniżej 15 roku życia"
   ]
  },
  {
   "cell_type": "code",
   "execution_count": 143,
   "id": "016ea6fe",
   "metadata": {},
   "outputs": [],
   "source": [
    "#Porównując oba wykresy można zauważyć, że wniosek wyciągnięty powyżej jest trafny.\n",
    "#W krajach rozwiniętych rodzi się znacznie mniej dzieci. Dodatkowo warto zauważyć, że na wykresie są same państwa z Europy."
   ]
  },
  {
   "cell_type": "code",
   "execution_count": 195,
   "id": "6177d118",
   "metadata": {},
   "outputs": [
    {
     "data": {
      "image/png": "[encoded data removed]",
      "text/plain": [
       "plot without title"
      ]
     },
     "metadata": {},
     "output_type": "display_data"
    }
   ],
   "source": [
    "par(plt = c(0.15, 0.9, 0.2 , 1))\n",
    "\n",
    "\n",
    "plot(sorted_by_pop15_ros[, 'pop75'], type=\"b\", xaxt=\"n\", xlab=\"\", ylab=\"Populacja powyżej 75 roku\")\n",
    "axis(side=1, at=1:length(rownames(sorted_by_pop15_ros)), labels=rownames(sorted_by_pop15_ros), las=2, cex.axis=0.7)\n",
    "\n",
    "\n",
    "#Wykres 3. Porównanie populacji poniżej 15 i powyżej 75 roku życia w podanych krajach"
   ]
  },
  {
   "cell_type": "code",
   "execution_count": null,
   "id": "2b0686c9",
   "metadata": {},
   "outputs": [],
   "source": [
    "#Warto tutaj zauważyć, że w krajach rozwiniętych nie dość że rodzi się mniej dzieci, \n",
    "#to ludzi powyżej 75 roku życia również jest więcej "
   ]
  },
  {
   "cell_type": "code",
   "execution_count": 140,
   "id": "2e3e25f8",
   "metadata": {},
   "outputs": [
    {
     "data": {
      "image/png": "[encoded data removed]",
      "text/plain": [
       "plot without title"
      ]
     },
     "metadata": {},
     "output_type": "display_data"
    }
   ],
   "source": [
    "sunflowerplot(LifeCycleSavings[,'pop15'], LifeCycleSavings[, 'ddpi'],\n",
    "              xlab = 'Populacja ponizej 15 roku zycia', ylab = 'Wzrost ddpi')\n",
    "\n",
    "#Wykres 4. Stosunek populacji poniżej 15 roku życia do ddpi"
   ]
  },
  {
   "cell_type": "code",
   "execution_count": 118,
   "id": "64cf9670",
   "metadata": {},
   "outputs": [],
   "source": [
    "#Z wykresu widać, że liczba populacji poniżej 15 roku życia nie ma większego wpływu na aktualny rozwój kraju,\n",
    "#wyniki są porównywalne."
   ]
  },
  {
   "cell_type": "code",
   "execution_count": 137,
   "id": "e7f2ccfd",
   "metadata": {},
   "outputs": [
    {
     "data": {
      "image/png": "[encoded data removed]",
      "text/plain": [
       "plot without title"
      ]
     },
     "metadata": {},
     "output_type": "display_data"
    }
   ],
   "source": [
    "boxplot(list(LifeCycleSavings[, 'pop15'], LifeCycleSavings[, 'pop75']), col=\"pink\", \n",
    "        boxwex=0.7,ylim=c(0, 50), names= c('pop15','pop75'))\n",
    "\n",
    "#Wykres 5. Stosunek populacji poniżej 15 i powyżej 75 roku życia"
   ]
  },
  {
   "cell_type": "code",
   "execution_count": 138,
   "id": "dc862297",
   "metadata": {},
   "outputs": [],
   "source": [
    "#Na tym wykresie bardzo wyraźnie widać różnicę pomiędzy populacją poniżej 15 a powyżej 75 roku życia. \n",
    "#Ludzi poniżej 15 roku życia jest znacznie więcej niż powyżej 75. \n"
   ]
  },
  {
   "cell_type": "code",
   "execution_count": 249,
   "id": "c66af09f",
   "metadata": {},
   "outputs": [
    {
     "data": {
      "image/png": "[encoded data removed]",
      "text/plain": [
       "Plot with title \"Wykres kołowy dla 10 największych państw + reszta\""
      ]
     },
     "metadata": {},
     "output_type": "display_data"
    }
   ],
   "source": [
    "dpi <- LifeCycleSavings[order(-LifeCycleSavings$dpi),]\n",
    "\n",
    "top_10 <- dpi[,'dpi'][1:10]\n",
    "\n",
    "# wyliczenie reszty\n",
    "reszta_suma <- sum(dpi[11:nrow(dpi), ])\n",
    "\n",
    "# połączenie top 10 państw z resztą\n",
    "label <- rownames(dpi)[1:10]\n",
    "labels <- c(label, \"reszta\")\n",
    "values <- c(top_10, reszta_suma)\n",
    "\n",
    "suppressWarnings(\n",
    "pie(values, labels = labels, \n",
    "    col = rainbow(length(values)), # kolory\n",
    "    main = \"Wykres kołowy dla 10 największych państw + reszta\",\n",
    "    cex = 0.8, # rozmiar etykiet\n",
    "    clockwise = TRUE, # wykres zgodny z ruchem wskazówek zegara\n",
    "    labeldistance = 1.1, # dystans etykiet od środka koła\n",
    "    radius = 0.8 # rozmiar wykresu\n",
    ")\n",
    "    )"
   ]
  },
  {
   "cell_type": "code",
   "execution_count": null,
   "id": "ac11f43d",
   "metadata": {},
   "outputs": [],
   "source": [
    "# jak widac na wykresie suma 10 największych państw pod względem DPI jest praktycznie połową sumy DPI reszty państw\n"
   ]
  },
  {
   "cell_type": "code",
   "execution_count": null,
   "id": "7bc60984",
   "metadata": {},
   "outputs": [],
   "source": [
    "#Zadanie 2"
   ]
  },
  {
   "cell_type": "code",
   "execution_count": 252,
   "id": "24385a09",
   "metadata": {},
   "outputs": [],
   "source": [
    "# pobranie danych\n",
    "Eggs<-read.csv(\"http://jolej.linuxpl.info/Eggs.csv\", header=TRUE)"
   ]
  },
  {
   "cell_type": "code",
   "execution_count": 255,
   "id": "84aa3840",
   "metadata": {},
   "outputs": [
    {
     "data": {
      "text/html": [
       "<table>\n",
       "<thead><tr><th scope=col>X</th><th scope=col>Week</th><th scope=col>Month</th><th scope=col>First.Week</th><th scope=col>Easter</th><th scope=col>Cases</th><th scope=col>Egg.Pr</th><th scope=col>Beef.Pr</th><th scope=col>Pork.Pr</th><th scope=col>Chicken.Pr</th><th scope=col>Cereal.Pr</th></tr></thead>\n",
       "<tbody>\n",
       "\t<tr><td> 1        </td><td> 1        </td><td>July      </td><td>No        </td><td>Non Easter</td><td> 96343    </td><td> 90.42    </td><td>142.89    </td><td>128.04    </td><td>75.42     </td><td>107.51    </td></tr>\n",
       "\t<tr><td> 2        </td><td> 2        </td><td>July      </td><td>No        </td><td>Non Easter</td><td> 96345    </td><td> 89.33    </td><td>140.23    </td><td>131.52    </td><td>72.85     </td><td>109.96    </td></tr>\n",
       "\t<tr><td> 3        </td><td> 3        </td><td>July      </td><td>No        </td><td>Non Easter</td><td> 96928    </td><td> 89.89    </td><td>145.85    </td><td>132.73    </td><td>69.94     </td><td>109.85    </td></tr>\n",
       "\t<tr><td> 4        </td><td> 4        </td><td>August    </td><td>No        </td><td>Non Easter</td><td> 93519    </td><td> 90.71    </td><td>146.64    </td><td>128.48    </td><td>75.58     </td><td>111.89    </td></tr>\n",
       "\t<tr><td> 5        </td><td> 5        </td><td>August    </td><td>Yes       </td><td>Non Easter</td><td> 99032    </td><td> 85.99    </td><td>141.76    </td><td>132.20    </td><td>71.88     </td><td>110.61    </td></tr>\n",
       "\t<tr><td> 6        </td><td> 6        </td><td>August    </td><td>No        </td><td>Non Easter</td><td> 91539    </td><td> 91.83    </td><td>144.74    </td><td>133.21    </td><td>70.00     </td><td>108.47    </td></tr>\n",
       "\t<tr><td> 7        </td><td> 7        </td><td>August    </td><td>No        </td><td>Non Easter</td><td> 89969    </td><td> 87.29    </td><td>141.93    </td><td>137.73    </td><td>70.31     </td><td>112.24    </td></tr>\n",
       "\t<tr><td> 8        </td><td> 8        </td><td>August    </td><td>No        </td><td>Non Easter</td><td> 90859    </td><td> 96.36    </td><td>148.25    </td><td>139.70    </td><td>72.20     </td><td>108.75    </td></tr>\n",
       "\t<tr><td> 9        </td><td> 9        </td><td>September </td><td>Yes       </td><td>Non Easter</td><td> 99697    </td><td> 99.71    </td><td>147.24    </td><td>137.72    </td><td>67.50     </td><td>110.83    </td></tr>\n",
       "\t<tr><td>10        </td><td>10        </td><td>September </td><td>No        </td><td>Non Easter</td><td> 88350    </td><td> 99.38    </td><td>150.39    </td><td>138.59    </td><td>68.04     </td><td>112.37    </td></tr>\n",
       "\t<tr><td>11        </td><td>11        </td><td>September </td><td>No        </td><td>Non Easter</td><td>100383    </td><td> 97.53    </td><td>139.54    </td><td>149.04    </td><td>67.16     </td><td>110.61    </td></tr>\n",
       "\t<tr><td>12        </td><td>12        </td><td>September </td><td>No        </td><td>Non Easter</td><td> 94415    </td><td>100.77    </td><td>154.68    </td><td>140.99    </td><td>66.00     </td><td>110.13    </td></tr>\n",
       "\t<tr><td>13        </td><td>13        </td><td>October   </td><td>Yes       </td><td>Non Easter</td><td> 91813    </td><td> 98.00    </td><td>147.61    </td><td>139.49    </td><td>65.80     </td><td>111.64    </td></tr>\n",
       "\t<tr><td>14        </td><td>14        </td><td>October   </td><td>No        </td><td>Non Easter</td><td>100466    </td><td> 99.89    </td><td>145.57    </td><td>144.34    </td><td>65.35     </td><td>109.33    </td></tr>\n",
       "\t<tr><td>15        </td><td>15        </td><td>October   </td><td>No        </td><td>Non Easter</td><td> 96783    </td><td>101.26    </td><td>150.88    </td><td>146.88    </td><td>68.88     </td><td>107.12    </td></tr>\n",
       "\t<tr><td>16        </td><td>16        </td><td>October   </td><td>No        </td><td>Non Easter</td><td> 91008    </td><td>101.26    </td><td>145.25    </td><td>149.83    </td><td>67.28     </td><td>110.34    </td></tr>\n",
       "\t<tr><td>17        </td><td>17        </td><td>October   </td><td>No        </td><td>Non Easter</td><td>100324    </td><td>100.28    </td><td>141.26    </td><td>135.06    </td><td>60.95     </td><td>102.35    </td></tr>\n",
       "\t<tr><td>18        </td><td>18        </td><td>November  </td><td>Yes       </td><td>Non Easter</td><td>106628    </td><td>100.69    </td><td>138.80    </td><td>137.97    </td><td>65.58     </td><td>111.52    </td></tr>\n",
       "\t<tr><td>19        </td><td>19        </td><td>November  </td><td>No        </td><td>Non Easter</td><td> 98892    </td><td>105.16    </td><td>137.12    </td><td>134.96    </td><td>65.98     </td><td>112.19    </td></tr>\n",
       "\t<tr><td>20        </td><td>20        </td><td>November  </td><td>No        </td><td>Non Easter</td><td> 98252    </td><td>109.55    </td><td>149.22    </td><td>137.90    </td><td>68.20     </td><td>111.84    </td></tr>\n",
       "\t<tr><td>21        </td><td>21        </td><td>November  </td><td>No        </td><td>Non Easter</td><td>102944    </td><td>107.29    </td><td>150.05    </td><td>145.61    </td><td>71.32     </td><td>115.37    </td></tr>\n",
       "\t<tr><td>22        </td><td>22        </td><td>December  </td><td>Yes       </td><td>Non Easter</td><td> 97284    </td><td>108.40    </td><td>149.46    </td><td>135.36    </td><td>67.46     </td><td>115.93    </td></tr>\n",
       "\t<tr><td>23        </td><td>23        </td><td>December  </td><td>No        </td><td>Non Easter</td><td>110057    </td><td>105.31    </td><td>148.34    </td><td>137.15    </td><td>67.87     </td><td>116.83    </td></tr>\n",
       "\t<tr><td>24        </td><td>24        </td><td>December  </td><td>No        </td><td>Non Easter</td><td>107742    </td><td>102.09    </td><td>152.24    </td><td>134.32    </td><td>66.42     </td><td>118.19    </td></tr>\n",
       "\t<tr><td>25        </td><td>25        </td><td>December  </td><td>No        </td><td>Non Easter</td><td>107924    </td><td>101.12    </td><td>156.99    </td><td>135.00    </td><td>67.00     </td><td>114.77    </td></tr>\n",
       "\t<tr><td>26        </td><td>26        </td><td>January   </td><td>No        </td><td>Non Easter</td><td>109828    </td><td> 98.57    </td><td>155.18    </td><td>136.84    </td><td>63.74     </td><td>116.83    </td></tr>\n",
       "\t<tr><td>27        </td><td>27        </td><td>January   </td><td>Yes       </td><td>Non Easter</td><td>127887    </td><td> 88.52    </td><td>142.96    </td><td>132.53    </td><td>69.50     </td><td>116.01    </td></tr>\n",
       "\t<tr><td>28        </td><td>28        </td><td>January   </td><td>No        </td><td>Non Easter</td><td>109332    </td><td> 90.28    </td><td>146.25    </td><td>140.15    </td><td>65.61     </td><td>117.74    </td></tr>\n",
       "\t<tr><td>29        </td><td>29        </td><td>January   </td><td>No        </td><td>Non Easter</td><td> 92530    </td><td> 97.10    </td><td>144.65    </td><td>138.73    </td><td>74.08     </td><td>117.05    </td></tr>\n",
       "\t<tr><td>30        </td><td>30        </td><td>January   </td><td>No        </td><td>Non Easter</td><td> 92635    </td><td>107.63    </td><td>152.15    </td><td>139.53    </td><td>73.21     </td><td>116.01    </td></tr>\n",
       "\t<tr><td>...</td><td>...</td><td>...</td><td>...</td><td>...</td><td>...</td><td>...</td><td>...</td><td>...</td><td>...</td><td>...</td></tr>\n",
       "\t<tr><td> 76        </td><td> 76        </td><td>December   </td><td>No         </td><td>Non Easter </td><td>104879     </td><td>100.54     </td><td>147.08     </td><td>164.05     </td><td>61.77      </td><td>115.37     </td></tr>\n",
       "\t<tr><td> 77        </td><td> 77        </td><td>December   </td><td>No         </td><td>Non Easter </td><td>116989     </td><td>100.51     </td><td>157.84     </td><td>170.55     </td><td>66.28      </td><td>121.19     </td></tr>\n",
       "\t<tr><td> 78        </td><td> 78        </td><td>January    </td><td>No         </td><td>Non Easter </td><td>106210     </td><td>101.75     </td><td>140.98     </td><td>159.72     </td><td>68.04      </td><td>113.25     </td></tr>\n",
       "\t<tr><td> 79        </td><td> 79        </td><td>January    </td><td>Yes        </td><td>Non Easter </td><td>109141     </td><td> 97.50     </td><td>133.81     </td><td>173.53     </td><td>66.80      </td><td>113.75     </td></tr>\n",
       "\t<tr><td> 80        </td><td> 80        </td><td>January    </td><td>No         </td><td>Non Easter </td><td>101761     </td><td> 95.60     </td><td>145.51     </td><td>174.92     </td><td>58.48      </td><td>116.41     </td></tr>\n",
       "\t<tr><td> 81        </td><td> 81        </td><td>January    </td><td>No         </td><td>Non Easter </td><td> 96756     </td><td> 94.95     </td><td>131.15     </td><td>176.31     </td><td>60.56      </td><td>119.22     </td></tr>\n",
       "\t<tr><td> 82        </td><td> 82        </td><td>January    </td><td>No         </td><td>Non Easter </td><td>106391     </td><td> 80.35     </td><td>143.99     </td><td>168.00     </td><td>67.68      </td><td>118.73     </td></tr>\n",
       "\t<tr><td> 83        </td><td> 83        </td><td>February   </td><td>Yes        </td><td>Non Easter </td><td> 95902     </td><td> 96.39     </td><td>129.79     </td><td>175.50     </td><td>61.37      </td><td>119.89     </td></tr>\n",
       "\t<tr><td> 84        </td><td> 84        </td><td>February   </td><td>No         </td><td>Non Easter </td><td>100112     </td><td> 95.30     </td><td>143.69     </td><td>174.87     </td><td>55.09      </td><td>120.81     </td></tr>\n",
       "\t<tr><td> 85        </td><td> 85        </td><td>February   </td><td>No         </td><td>Non Easter </td><td>101789     </td><td> 99.82     </td><td>145.48     </td><td>178.68     </td><td>64.07      </td><td>122.26     </td></tr>\n",
       "\t<tr><td> 86        </td><td> 86        </td><td>February   </td><td>No         </td><td>Non Easter </td><td> 88098     </td><td>101.65     </td><td>150.29     </td><td>178.33     </td><td>69.62      </td><td>123.04     </td></tr>\n",
       "\t<tr><td> 87        </td><td> 87        </td><td>March      </td><td>Yes        </td><td>Non Easter </td><td>104613     </td><td>100.11     </td><td>140.26     </td><td>169.55     </td><td>62.56      </td><td>122.31     </td></tr>\n",
       "\t<tr><td> 88        </td><td> 88        </td><td>March      </td><td>No         </td><td>Non Easter </td><td>100936     </td><td>101.28     </td><td>154.16     </td><td>168.52     </td><td>64.34      </td><td>125.09     </td></tr>\n",
       "\t<tr><td> 89        </td><td> 89        </td><td>March      </td><td>No         </td><td>Non Easter </td><td> 91363     </td><td>105.27     </td><td>153.54     </td><td>174.65     </td><td>61.69      </td><td>126.40     </td></tr>\n",
       "\t<tr><td> 90        </td><td> 90        </td><td>March      </td><td>No         </td><td>Pre Easter </td><td>120247     </td><td> 98.89     </td><td>158.89     </td><td>153.36     </td><td>63.28      </td><td>122.76     </td></tr>\n",
       "\t<tr><td> 91        </td><td> 91        </td><td>April      </td><td>Yes        </td><td>Easter     </td><td>169028     </td><td> 79.95     </td><td>145.41     </td><td>174.36     </td><td>67.61      </td><td>117.82     </td></tr>\n",
       "\t<tr><td> 92        </td><td> 92        </td><td>April      </td><td>No         </td><td>Post Easter</td><td> 72379     </td><td> 99.67     </td><td>152.34     </td><td>172.67     </td><td>65.06      </td><td>112.25     </td></tr>\n",
       "\t<tr><td> 93        </td><td> 93        </td><td>April      </td><td>No         </td><td>Non Easter </td><td> 85397     </td><td> 95.15     </td><td>146.87     </td><td>166.05     </td><td>61.07      </td><td>125.02     </td></tr>\n",
       "\t<tr><td> 94        </td><td> 94        </td><td>April      </td><td>No         </td><td>Non Easter </td><td> 89626     </td><td> 96.68     </td><td>156.44     </td><td>153.85     </td><td>66.30      </td><td>126.30     </td></tr>\n",
       "\t<tr><td> 95        </td><td> 95        </td><td>April      </td><td>No         </td><td>Non Easter </td><td> 94355     </td><td> 94.67     </td><td>154.82     </td><td>157.72     </td><td>66.29      </td><td>126.30     </td></tr>\n",
       "\t<tr><td> 96        </td><td> 96        </td><td>May        </td><td>Yes        </td><td>Non Easter </td><td> 93297     </td><td>103.79     </td><td>154.72     </td><td>159.86     </td><td>65.29      </td><td>124.82     </td></tr>\n",
       "\t<tr><td> 97        </td><td> 97        </td><td>May        </td><td>No         </td><td>Non Easter </td><td> 89708     </td><td>103.92     </td><td>150.35     </td><td>155.02     </td><td>62.10      </td><td>122.94     </td></tr>\n",
       "\t<tr><td> 98        </td><td> 98        </td><td>May        </td><td>No         </td><td>Non Easter </td><td> 82399     </td><td>104.50     </td><td>146.00     </td><td>150.82     </td><td>54.69      </td><td>126.04     </td></tr>\n",
       "\t<tr><td> 99        </td><td> 99        </td><td>May        </td><td>No         </td><td>Non Easter </td><td> 89514     </td><td>101.77     </td><td>149.58     </td><td>148.39     </td><td>61.02      </td><td>130.28     </td></tr>\n",
       "\t<tr><td>100        </td><td>100        </td><td>June       </td><td>Yes        </td><td>Non Easter </td><td>104256     </td><td> 88.12     </td><td>144.70     </td><td>147.29     </td><td>58.56      </td><td>118.73     </td></tr>\n",
       "\t<tr><td>101        </td><td>101        </td><td>June       </td><td>No         </td><td>Non Easter </td><td> 99153     </td><td> 87.94     </td><td>136.61     </td><td>153.01     </td><td>64.44      </td><td>121.20     </td></tr>\n",
       "\t<tr><td>102        </td><td>102        </td><td>June       </td><td>No         </td><td>Non Easter </td><td> 89841     </td><td> 93.82     </td><td>154.50     </td><td>140.18     </td><td>60.67      </td><td>123.31     </td></tr>\n",
       "\t<tr><td>103        </td><td>103        </td><td>June       </td><td>No         </td><td>Non Easter </td><td> 91840     </td><td>103.58     </td><td>137.18     </td><td>149.60     </td><td>56.34      </td><td>128.18     </td></tr>\n",
       "\t<tr><td>104        </td><td>104        </td><td>July       </td><td>Yes        </td><td>Non Easter </td><td> 95436     </td><td>103.35     </td><td>143.56     </td><td>145.24     </td><td>61.00      </td><td>125.26     </td></tr>\n",
       "\t<tr><td>105        </td><td>105        </td><td>July       </td><td>No         </td><td>Non Easter </td><td> 82988     </td><td>103.99     </td><td>134.02     </td><td>148.21     </td><td>57.09      </td><td>118.50     </td></tr>\n",
       "</tbody>\n",
       "</table>\n"
      ],
      "text/latex": [
       "\\begin{tabular}{r|lllllllllll}\n",
       " X & Week & Month & First.Week & Easter & Cases & Egg.Pr & Beef.Pr & Pork.Pr & Chicken.Pr & Cereal.Pr\\\\\n",
       "\\hline\n",
       "\t  1         &  1         & July       & No         & Non Easter &  96343     &  90.42     & 142.89     & 128.04     & 75.42      & 107.51    \\\\\n",
       "\t  2         &  2         & July       & No         & Non Easter &  96345     &  89.33     & 140.23     & 131.52     & 72.85      & 109.96    \\\\\n",
       "\t  3         &  3         & July       & No         & Non Easter &  96928     &  89.89     & 145.85     & 132.73     & 69.94      & 109.85    \\\\\n",
       "\t  4         &  4         & August     & No         & Non Easter &  93519     &  90.71     & 146.64     & 128.48     & 75.58      & 111.89    \\\\\n",
       "\t  5         &  5         & August     & Yes        & Non Easter &  99032     &  85.99     & 141.76     & 132.20     & 71.88      & 110.61    \\\\\n",
       "\t  6         &  6         & August     & No         & Non Easter &  91539     &  91.83     & 144.74     & 133.21     & 70.00      & 108.47    \\\\\n",
       "\t  7         &  7         & August     & No         & Non Easter &  89969     &  87.29     & 141.93     & 137.73     & 70.31      & 112.24    \\\\\n",
       "\t  8         &  8         & August     & No         & Non Easter &  90859     &  96.36     & 148.25     & 139.70     & 72.20      & 108.75    \\\\\n",
       "\t  9         &  9         & September  & Yes        & Non Easter &  99697     &  99.71     & 147.24     & 137.72     & 67.50      & 110.83    \\\\\n",
       "\t 10         & 10         & September  & No         & Non Easter &  88350     &  99.38     & 150.39     & 138.59     & 68.04      & 112.37    \\\\\n",
       "\t 11         & 11         & September  & No         & Non Easter & 100383     &  97.53     & 139.54     & 149.04     & 67.16      & 110.61    \\\\\n",
       "\t 12         & 12         & September  & No         & Non Easter &  94415     & 100.77     & 154.68     & 140.99     & 66.00      & 110.13    \\\\\n",
       "\t 13         & 13         & October    & Yes        & Non Easter &  91813     &  98.00     & 147.61     & 139.49     & 65.80      & 111.64    \\\\\n",
       "\t 14         & 14         & October    & No         & Non Easter & 100466     &  99.89     & 145.57     & 144.34     & 65.35      & 109.33    \\\\\n",
       "\t 15         & 15         & October    & No         & Non Easter &  96783     & 101.26     & 150.88     & 146.88     & 68.88      & 107.12    \\\\\n",
       "\t 16         & 16         & October    & No         & Non Easter &  91008     & 101.26     & 145.25     & 149.83     & 67.28      & 110.34    \\\\\n",
       "\t 17         & 17         & October    & No         & Non Easter & 100324     & 100.28     & 141.26     & 135.06     & 60.95      & 102.35    \\\\\n",
       "\t 18         & 18         & November   & Yes        & Non Easter & 106628     & 100.69     & 138.80     & 137.97     & 65.58      & 111.52    \\\\\n",
       "\t 19         & 19         & November   & No         & Non Easter &  98892     & 105.16     & 137.12     & 134.96     & 65.98      & 112.19    \\\\\n",
       "\t 20         & 20         & November   & No         & Non Easter &  98252     & 109.55     & 149.22     & 137.90     & 68.20      & 111.84    \\\\\n",
       "\t 21         & 21         & November   & No         & Non Easter & 102944     & 107.29     & 150.05     & 145.61     & 71.32      & 115.37    \\\\\n",
       "\t 22         & 22         & December   & Yes        & Non Easter &  97284     & 108.40     & 149.46     & 135.36     & 67.46      & 115.93    \\\\\n",
       "\t 23         & 23         & December   & No         & Non Easter & 110057     & 105.31     & 148.34     & 137.15     & 67.87      & 116.83    \\\\\n",
       "\t 24         & 24         & December   & No         & Non Easter & 107742     & 102.09     & 152.24     & 134.32     & 66.42      & 118.19    \\\\\n",
       "\t 25         & 25         & December   & No         & Non Easter & 107924     & 101.12     & 156.99     & 135.00     & 67.00      & 114.77    \\\\\n",
       "\t 26         & 26         & January    & No         & Non Easter & 109828     &  98.57     & 155.18     & 136.84     & 63.74      & 116.83    \\\\\n",
       "\t 27         & 27         & January    & Yes        & Non Easter & 127887     &  88.52     & 142.96     & 132.53     & 69.50      & 116.01    \\\\\n",
       "\t 28         & 28         & January    & No         & Non Easter & 109332     &  90.28     & 146.25     & 140.15     & 65.61      & 117.74    \\\\\n",
       "\t 29         & 29         & January    & No         & Non Easter &  92530     &  97.10     & 144.65     & 138.73     & 74.08      & 117.05    \\\\\n",
       "\t 30         & 30         & January    & No         & Non Easter &  92635     & 107.63     & 152.15     & 139.53     & 73.21      & 116.01    \\\\\n",
       "\t ... & ... & ... & ... & ... & ... & ... & ... & ... & ... & ...\\\\\n",
       "\t  76         &  76         & December    & No          & Non Easter  & 104879      & 100.54      & 147.08      & 164.05      & 61.77       & 115.37     \\\\\n",
       "\t  77         &  77         & December    & No          & Non Easter  & 116989      & 100.51      & 157.84      & 170.55      & 66.28       & 121.19     \\\\\n",
       "\t  78         &  78         & January     & No          & Non Easter  & 106210      & 101.75      & 140.98      & 159.72      & 68.04       & 113.25     \\\\\n",
       "\t  79         &  79         & January     & Yes         & Non Easter  & 109141      &  97.50      & 133.81      & 173.53      & 66.80       & 113.75     \\\\\n",
       "\t  80         &  80         & January     & No          & Non Easter  & 101761      &  95.60      & 145.51      & 174.92      & 58.48       & 116.41     \\\\\n",
       "\t  81         &  81         & January     & No          & Non Easter  &  96756      &  94.95      & 131.15      & 176.31      & 60.56       & 119.22     \\\\\n",
       "\t  82         &  82         & January     & No          & Non Easter  & 106391      &  80.35      & 143.99      & 168.00      & 67.68       & 118.73     \\\\\n",
       "\t  83         &  83         & February    & Yes         & Non Easter  &  95902      &  96.39      & 129.79      & 175.50      & 61.37       & 119.89     \\\\\n",
       "\t  84         &  84         & February    & No          & Non Easter  & 100112      &  95.30      & 143.69      & 174.87      & 55.09       & 120.81     \\\\\n",
       "\t  85         &  85         & February    & No          & Non Easter  & 101789      &  99.82      & 145.48      & 178.68      & 64.07       & 122.26     \\\\\n",
       "\t  86         &  86         & February    & No          & Non Easter  &  88098      & 101.65      & 150.29      & 178.33      & 69.62       & 123.04     \\\\\n",
       "\t  87         &  87         & March       & Yes         & Non Easter  & 104613      & 100.11      & 140.26      & 169.55      & 62.56       & 122.31     \\\\\n",
       "\t  88         &  88         & March       & No          & Non Easter  & 100936      & 101.28      & 154.16      & 168.52      & 64.34       & 125.09     \\\\\n",
       "\t  89         &  89         & March       & No          & Non Easter  &  91363      & 105.27      & 153.54      & 174.65      & 61.69       & 126.40     \\\\\n",
       "\t  90         &  90         & March       & No          & Pre Easter  & 120247      &  98.89      & 158.89      & 153.36      & 63.28       & 122.76     \\\\\n",
       "\t  91         &  91         & April       & Yes         & Easter      & 169028      &  79.95      & 145.41      & 174.36      & 67.61       & 117.82     \\\\\n",
       "\t  92         &  92         & April       & No          & Post Easter &  72379      &  99.67      & 152.34      & 172.67      & 65.06       & 112.25     \\\\\n",
       "\t  93         &  93         & April       & No          & Non Easter  &  85397      &  95.15      & 146.87      & 166.05      & 61.07       & 125.02     \\\\\n",
       "\t  94         &  94         & April       & No          & Non Easter  &  89626      &  96.68      & 156.44      & 153.85      & 66.30       & 126.30     \\\\\n",
       "\t  95         &  95         & April       & No          & Non Easter  &  94355      &  94.67      & 154.82      & 157.72      & 66.29       & 126.30     \\\\\n",
       "\t  96         &  96         & May         & Yes         & Non Easter  &  93297      & 103.79      & 154.72      & 159.86      & 65.29       & 124.82     \\\\\n",
       "\t  97         &  97         & May         & No          & Non Easter  &  89708      & 103.92      & 150.35      & 155.02      & 62.10       & 122.94     \\\\\n",
       "\t  98         &  98         & May         & No          & Non Easter  &  82399      & 104.50      & 146.00      & 150.82      & 54.69       & 126.04     \\\\\n",
       "\t  99         &  99         & May         & No          & Non Easter  &  89514      & 101.77      & 149.58      & 148.39      & 61.02       & 130.28     \\\\\n",
       "\t 100         & 100         & June        & Yes         & Non Easter  & 104256      &  88.12      & 144.70      & 147.29      & 58.56       & 118.73     \\\\\n",
       "\t 101         & 101         & June        & No          & Non Easter  &  99153      &  87.94      & 136.61      & 153.01      & 64.44       & 121.20     \\\\\n",
       "\t 102         & 102         & June        & No          & Non Easter  &  89841      &  93.82      & 154.50      & 140.18      & 60.67       & 123.31     \\\\\n",
       "\t 103         & 103         & June        & No          & Non Easter  &  91840      & 103.58      & 137.18      & 149.60      & 56.34       & 128.18     \\\\\n",
       "\t 104         & 104         & July        & Yes         & Non Easter  &  95436      & 103.35      & 143.56      & 145.24      & 61.00       & 125.26     \\\\\n",
       "\t 105         & 105         & July        & No          & Non Easter  &  82988      & 103.99      & 134.02      & 148.21      & 57.09       & 118.50     \\\\\n",
       "\\end{tabular}\n"
      ],
      "text/markdown": [
       "\n",
       "X | Week | Month | First.Week | Easter | Cases | Egg.Pr | Beef.Pr | Pork.Pr | Chicken.Pr | Cereal.Pr | \n",
       "|---|---|---|---|---|---|---|---|---|---|---|---|---|---|---|---|---|---|---|---|---|---|---|---|---|---|---|---|---|---|---|---|---|---|---|---|---|---|---|---|---|---|---|---|---|---|---|---|---|---|---|---|---|---|---|---|---|---|---|---|---|\n",
       "|  1         |  1         | July       | No         | Non Easter |  96343     |  90.42     | 142.89     | 128.04     | 75.42      | 107.51     | \n",
       "|  2         |  2         | July       | No         | Non Easter |  96345     |  89.33     | 140.23     | 131.52     | 72.85      | 109.96     | \n",
       "|  3         |  3         | July       | No         | Non Easter |  96928     |  89.89     | 145.85     | 132.73     | 69.94      | 109.85     | \n",
       "|  4         |  4         | August     | No         | Non Easter |  93519     |  90.71     | 146.64     | 128.48     | 75.58      | 111.89     | \n",
       "|  5         |  5         | August     | Yes        | Non Easter |  99032     |  85.99     | 141.76     | 132.20     | 71.88      | 110.61     | \n",
       "|  6         |  6         | August     | No         | Non Easter |  91539     |  91.83     | 144.74     | 133.21     | 70.00      | 108.47     | \n",
       "|  7         |  7         | August     | No         | Non Easter |  89969     |  87.29     | 141.93     | 137.73     | 70.31      | 112.24     | \n",
       "|  8         |  8         | August     | No         | Non Easter |  90859     |  96.36     | 148.25     | 139.70     | 72.20      | 108.75     | \n",
       "|  9         |  9         | September  | Yes        | Non Easter |  99697     |  99.71     | 147.24     | 137.72     | 67.50      | 110.83     | \n",
       "| 10         | 10         | September  | No         | Non Easter |  88350     |  99.38     | 150.39     | 138.59     | 68.04      | 112.37     | \n",
       "| 11         | 11         | September  | No         | Non Easter | 100383     |  97.53     | 139.54     | 149.04     | 67.16      | 110.61     | \n",
       "| 12         | 12         | September  | No         | Non Easter |  94415     | 100.77     | 154.68     | 140.99     | 66.00      | 110.13     | \n",
       "| 13         | 13         | October    | Yes        | Non Easter |  91813     |  98.00     | 147.61     | 139.49     | 65.80      | 111.64     | \n",
       "| 14         | 14         | October    | No         | Non Easter | 100466     |  99.89     | 145.57     | 144.34     | 65.35      | 109.33     | \n",
       "| 15         | 15         | October    | No         | Non Easter |  96783     | 101.26     | 150.88     | 146.88     | 68.88      | 107.12     | \n",
       "| 16         | 16         | October    | No         | Non Easter |  91008     | 101.26     | 145.25     | 149.83     | 67.28      | 110.34     | \n",
       "| 17         | 17         | October    | No         | Non Easter | 100324     | 100.28     | 141.26     | 135.06     | 60.95      | 102.35     | \n",
       "| 18         | 18         | November   | Yes        | Non Easter | 106628     | 100.69     | 138.80     | 137.97     | 65.58      | 111.52     | \n",
       "| 19         | 19         | November   | No         | Non Easter |  98892     | 105.16     | 137.12     | 134.96     | 65.98      | 112.19     | \n",
       "| 20         | 20         | November   | No         | Non Easter |  98252     | 109.55     | 149.22     | 137.90     | 68.20      | 111.84     | \n",
       "| 21         | 21         | November   | No         | Non Easter | 102944     | 107.29     | 150.05     | 145.61     | 71.32      | 115.37     | \n",
       "| 22         | 22         | December   | Yes        | Non Easter |  97284     | 108.40     | 149.46     | 135.36     | 67.46      | 115.93     | \n",
       "| 23         | 23         | December   | No         | Non Easter | 110057     | 105.31     | 148.34     | 137.15     | 67.87      | 116.83     | \n",
       "| 24         | 24         | December   | No         | Non Easter | 107742     | 102.09     | 152.24     | 134.32     | 66.42      | 118.19     | \n",
       "| 25         | 25         | December   | No         | Non Easter | 107924     | 101.12     | 156.99     | 135.00     | 67.00      | 114.77     | \n",
       "| 26         | 26         | January    | No         | Non Easter | 109828     |  98.57     | 155.18     | 136.84     | 63.74      | 116.83     | \n",
       "| 27         | 27         | January    | Yes        | Non Easter | 127887     |  88.52     | 142.96     | 132.53     | 69.50      | 116.01     | \n",
       "| 28         | 28         | January    | No         | Non Easter | 109332     |  90.28     | 146.25     | 140.15     | 65.61      | 117.74     | \n",
       "| 29         | 29         | January    | No         | Non Easter |  92530     |  97.10     | 144.65     | 138.73     | 74.08      | 117.05     | \n",
       "| 30         | 30         | January    | No         | Non Easter |  92635     | 107.63     | 152.15     | 139.53     | 73.21      | 116.01     | \n",
       "| ... | ... | ... | ... | ... | ... | ... | ... | ... | ... | ... | \n",
       "|  76         |  76         | December    | No          | Non Easter  | 104879      | 100.54      | 147.08      | 164.05      | 61.77       | 115.37      | \n",
       "|  77         |  77         | December    | No          | Non Easter  | 116989      | 100.51      | 157.84      | 170.55      | 66.28       | 121.19      | \n",
       "|  78         |  78         | January     | No          | Non Easter  | 106210      | 101.75      | 140.98      | 159.72      | 68.04       | 113.25      | \n",
       "|  79         |  79         | January     | Yes         | Non Easter  | 109141      |  97.50      | 133.81      | 173.53      | 66.80       | 113.75      | \n",
       "|  80         |  80         | January     | No          | Non Easter  | 101761      |  95.60      | 145.51      | 174.92      | 58.48       | 116.41      | \n",
       "|  81         |  81         | January     | No          | Non Easter  |  96756      |  94.95      | 131.15      | 176.31      | 60.56       | 119.22      | \n",
       "|  82         |  82         | January     | No          | Non Easter  | 106391      |  80.35      | 143.99      | 168.00      | 67.68       | 118.73      | \n",
       "|  83         |  83         | February    | Yes         | Non Easter  |  95902      |  96.39      | 129.79      | 175.50      | 61.37       | 119.89      | \n",
       "|  84         |  84         | February    | No          | Non Easter  | 100112      |  95.30      | 143.69      | 174.87      | 55.09       | 120.81      | \n",
       "|  85         |  85         | February    | No          | Non Easter  | 101789      |  99.82      | 145.48      | 178.68      | 64.07       | 122.26      | \n",
       "|  86         |  86         | February    | No          | Non Easter  |  88098      | 101.65      | 150.29      | 178.33      | 69.62       | 123.04      | \n",
       "|  87         |  87         | March       | Yes         | Non Easter  | 104613      | 100.11      | 140.26      | 169.55      | 62.56       | 122.31      | \n",
       "|  88         |  88         | March       | No          | Non Easter  | 100936      | 101.28      | 154.16      | 168.52      | 64.34       | 125.09      | \n",
       "|  89         |  89         | March       | No          | Non Easter  |  91363      | 105.27      | 153.54      | 174.65      | 61.69       | 126.40      | \n",
       "|  90         |  90         | March       | No          | Pre Easter  | 120247      |  98.89      | 158.89      | 153.36      | 63.28       | 122.76      | \n",
       "|  91         |  91         | April       | Yes         | Easter      | 169028      |  79.95      | 145.41      | 174.36      | 67.61       | 117.82      | \n",
       "|  92         |  92         | April       | No          | Post Easter |  72379      |  99.67      | 152.34      | 172.67      | 65.06       | 112.25      | \n",
       "|  93         |  93         | April       | No          | Non Easter  |  85397      |  95.15      | 146.87      | 166.05      | 61.07       | 125.02      | \n",
       "|  94         |  94         | April       | No          | Non Easter  |  89626      |  96.68      | 156.44      | 153.85      | 66.30       | 126.30      | \n",
       "|  95         |  95         | April       | No          | Non Easter  |  94355      |  94.67      | 154.82      | 157.72      | 66.29       | 126.30      | \n",
       "|  96         |  96         | May         | Yes         | Non Easter  |  93297      | 103.79      | 154.72      | 159.86      | 65.29       | 124.82      | \n",
       "|  97         |  97         | May         | No          | Non Easter  |  89708      | 103.92      | 150.35      | 155.02      | 62.10       | 122.94      | \n",
       "|  98         |  98         | May         | No          | Non Easter  |  82399      | 104.50      | 146.00      | 150.82      | 54.69       | 126.04      | \n",
       "|  99         |  99         | May         | No          | Non Easter  |  89514      | 101.77      | 149.58      | 148.39      | 61.02       | 130.28      | \n",
       "| 100         | 100         | June        | Yes         | Non Easter  | 104256      |  88.12      | 144.70      | 147.29      | 58.56       | 118.73      | \n",
       "| 101         | 101         | June        | No          | Non Easter  |  99153      |  87.94      | 136.61      | 153.01      | 64.44       | 121.20      | \n",
       "| 102         | 102         | June        | No          | Non Easter  |  89841      |  93.82      | 154.50      | 140.18      | 60.67       | 123.31      | \n",
       "| 103         | 103         | June        | No          | Non Easter  |  91840      | 103.58      | 137.18      | 149.60      | 56.34       | 128.18      | \n",
       "| 104         | 104         | July        | Yes         | Non Easter  |  95436      | 103.35      | 143.56      | 145.24      | 61.00       | 125.26      | \n",
       "| 105         | 105         | July        | No          | Non Easter  |  82988      | 103.99      | 134.02      | 148.21      | 57.09       | 118.50      | \n",
       "\n",
       "\n"
      ],
      "text/plain": [
       "    X   Week Month     First.Week Easter      Cases  Egg.Pr Beef.Pr Pork.Pr\n",
       "1    1   1   July      No         Non Easter   96343  90.42 142.89  128.04 \n",
       "2    2   2   July      No         Non Easter   96345  89.33 140.23  131.52 \n",
       "3    3   3   July      No         Non Easter   96928  89.89 145.85  132.73 \n",
       "4    4   4   August    No         Non Easter   93519  90.71 146.64  128.48 \n",
       "5    5   5   August    Yes        Non Easter   99032  85.99 141.76  132.20 \n",
       "6    6   6   August    No         Non Easter   91539  91.83 144.74  133.21 \n",
       "7    7   7   August    No         Non Easter   89969  87.29 141.93  137.73 \n",
       "8    8   8   August    No         Non Easter   90859  96.36 148.25  139.70 \n",
       "9    9   9   September Yes        Non Easter   99697  99.71 147.24  137.72 \n",
       "10  10  10   September No         Non Easter   88350  99.38 150.39  138.59 \n",
       "11  11  11   September No         Non Easter  100383  97.53 139.54  149.04 \n",
       "12  12  12   September No         Non Easter   94415 100.77 154.68  140.99 \n",
       "13  13  13   October   Yes        Non Easter   91813  98.00 147.61  139.49 \n",
       "14  14  14   October   No         Non Easter  100466  99.89 145.57  144.34 \n",
       "15  15  15   October   No         Non Easter   96783 101.26 150.88  146.88 \n",
       "16  16  16   October   No         Non Easter   91008 101.26 145.25  149.83 \n",
       "17  17  17   October   No         Non Easter  100324 100.28 141.26  135.06 \n",
       "18  18  18   November  Yes        Non Easter  106628 100.69 138.80  137.97 \n",
       "19  19  19   November  No         Non Easter   98892 105.16 137.12  134.96 \n",
       "20  20  20   November  No         Non Easter   98252 109.55 149.22  137.90 \n",
       "21  21  21   November  No         Non Easter  102944 107.29 150.05  145.61 \n",
       "22  22  22   December  Yes        Non Easter   97284 108.40 149.46  135.36 \n",
       "23  23  23   December  No         Non Easter  110057 105.31 148.34  137.15 \n",
       "24  24  24   December  No         Non Easter  107742 102.09 152.24  134.32 \n",
       "25  25  25   December  No         Non Easter  107924 101.12 156.99  135.00 \n",
       "26  26  26   January   No         Non Easter  109828  98.57 155.18  136.84 \n",
       "27  27  27   January   Yes        Non Easter  127887  88.52 142.96  132.53 \n",
       "28  28  28   January   No         Non Easter  109332  90.28 146.25  140.15 \n",
       "29  29  29   January   No         Non Easter   92530  97.10 144.65  138.73 \n",
       "30  30  30   January   No         Non Easter   92635 107.63 152.15  139.53 \n",
       "... ... ...  ...       ...        ...         ...    ...    ...     ...    \n",
       "76   76  76  December  No         Non Easter  104879 100.54 147.08  164.05 \n",
       "77   77  77  December  No         Non Easter  116989 100.51 157.84  170.55 \n",
       "78   78  78  January   No         Non Easter  106210 101.75 140.98  159.72 \n",
       "79   79  79  January   Yes        Non Easter  109141  97.50 133.81  173.53 \n",
       "80   80  80  January   No         Non Easter  101761  95.60 145.51  174.92 \n",
       "81   81  81  January   No         Non Easter   96756  94.95 131.15  176.31 \n",
       "82   82  82  January   No         Non Easter  106391  80.35 143.99  168.00 \n",
       "83   83  83  February  Yes        Non Easter   95902  96.39 129.79  175.50 \n",
       "84   84  84  February  No         Non Easter  100112  95.30 143.69  174.87 \n",
       "85   85  85  February  No         Non Easter  101789  99.82 145.48  178.68 \n",
       "86   86  86  February  No         Non Easter   88098 101.65 150.29  178.33 \n",
       "87   87  87  March     Yes        Non Easter  104613 100.11 140.26  169.55 \n",
       "88   88  88  March     No         Non Easter  100936 101.28 154.16  168.52 \n",
       "89   89  89  March     No         Non Easter   91363 105.27 153.54  174.65 \n",
       "90   90  90  March     No         Pre Easter  120247  98.89 158.89  153.36 \n",
       "91   91  91  April     Yes        Easter      169028  79.95 145.41  174.36 \n",
       "92   92  92  April     No         Post Easter  72379  99.67 152.34  172.67 \n",
       "93   93  93  April     No         Non Easter   85397  95.15 146.87  166.05 \n",
       "94   94  94  April     No         Non Easter   89626  96.68 156.44  153.85 \n",
       "95   95  95  April     No         Non Easter   94355  94.67 154.82  157.72 \n",
       "96   96  96  May       Yes        Non Easter   93297 103.79 154.72  159.86 \n",
       "97   97  97  May       No         Non Easter   89708 103.92 150.35  155.02 \n",
       "98   98  98  May       No         Non Easter   82399 104.50 146.00  150.82 \n",
       "99   99  99  May       No         Non Easter   89514 101.77 149.58  148.39 \n",
       "100 100 100  June      Yes        Non Easter  104256  88.12 144.70  147.29 \n",
       "101 101 101  June      No         Non Easter   99153  87.94 136.61  153.01 \n",
       "102 102 102  June      No         Non Easter   89841  93.82 154.50  140.18 \n",
       "103 103 103  June      No         Non Easter   91840 103.58 137.18  149.60 \n",
       "104 104 104  July      Yes        Non Easter   95436 103.35 143.56  145.24 \n",
       "105 105 105  July      No         Non Easter   82988 103.99 134.02  148.21 \n",
       "    Chicken.Pr Cereal.Pr\n",
       "1   75.42      107.51   \n",
       "2   72.85      109.96   \n",
       "3   69.94      109.85   \n",
       "4   75.58      111.89   \n",
       "5   71.88      110.61   \n",
       "6   70.00      108.47   \n",
       "7   70.31      112.24   \n",
       "8   72.20      108.75   \n",
       "9   67.50      110.83   \n",
       "10  68.04      112.37   \n",
       "11  67.16      110.61   \n",
       "12  66.00      110.13   \n",
       "13  65.80      111.64   \n",
       "14  65.35      109.33   \n",
       "15  68.88      107.12   \n",
       "16  67.28      110.34   \n",
       "17  60.95      102.35   \n",
       "18  65.58      111.52   \n",
       "19  65.98      112.19   \n",
       "20  68.20      111.84   \n",
       "21  71.32      115.37   \n",
       "22  67.46      115.93   \n",
       "23  67.87      116.83   \n",
       "24  66.42      118.19   \n",
       "25  67.00      114.77   \n",
       "26  63.74      116.83   \n",
       "27  69.50      116.01   \n",
       "28  65.61      117.74   \n",
       "29  74.08      117.05   \n",
       "30  73.21      116.01   \n",
       "... ...        ...      \n",
       "76  61.77      115.37   \n",
       "77  66.28      121.19   \n",
       "78  68.04      113.25   \n",
       "79  66.80      113.75   \n",
       "80  58.48      116.41   \n",
       "81  60.56      119.22   \n",
       "82  67.68      118.73   \n",
       "83  61.37      119.89   \n",
       "84  55.09      120.81   \n",
       "85  64.07      122.26   \n",
       "86  69.62      123.04   \n",
       "87  62.56      122.31   \n",
       "88  64.34      125.09   \n",
       "89  61.69      126.40   \n",
       "90  63.28      122.76   \n",
       "91  67.61      117.82   \n",
       "92  65.06      112.25   \n",
       "93  61.07      125.02   \n",
       "94  66.30      126.30   \n",
       "95  66.29      126.30   \n",
       "96  65.29      124.82   \n",
       "97  62.10      122.94   \n",
       "98  54.69      126.04   \n",
       "99  61.02      130.28   \n",
       "100 58.56      118.73   \n",
       "101 64.44      121.20   \n",
       "102 60.67      123.31   \n",
       "103 56.34      128.18   \n",
       "104 61.00      125.26   \n",
       "105 57.09      118.50   "
      ]
     },
     "metadata": {},
     "output_type": "display_data"
    }
   ],
   "source": [
    "Eggs"
   ]
  },
  {
   "cell_type": "code",
   "execution_count": 300,
   "id": "7627ce4d",
   "metadata": {},
   "outputs": [
    {
     "data": {
      "text/html": [
       "95.86"
      ],
      "text/latex": [
       "95.86"
      ],
      "text/markdown": [
       "95.86"
      ],
      "text/plain": [
       "[1] 95.86"
      ]
     },
     "metadata": {},
     "output_type": "display_data"
    },
    {
     "name": "stdout",
     "output_type": "stream",
     "text": [
      "[1] \"Ilosc danych powyzej i ponizej mediany\"\n"
     ]
    },
    {
     "data": {
      "text/html": [
       "52"
      ],
      "text/latex": [
       "52"
      ],
      "text/markdown": [
       "52"
      ],
      "text/plain": [
       "[1] 52"
      ]
     },
     "metadata": {},
     "output_type": "display_data"
    },
    {
     "data": {
      "text/html": [
       "105"
      ],
      "text/latex": [
       "105"
      ],
      "text/markdown": [
       "105"
      ],
      "text/plain": [
       "[1] 105"
      ]
     },
     "metadata": {},
     "output_type": "display_data"
    },
    {
     "name": "stdout",
     "output_type": "stream",
     "text": [
      "[1] \"Ilosc przed wielkanoca\"\n"
     ]
    },
    {
     "data": {
      "text/html": [
       "2"
      ],
      "text/latex": [
       "2"
      ],
      "text/markdown": [
       "2"
      ],
      "text/plain": [
       "[1] 2"
      ]
     },
     "metadata": {},
     "output_type": "display_data"
    },
    {
     "name": "stdout",
     "output_type": "stream",
     "text": [
      "[1] \"sprzedaz ponizej mediany sprzedazy jajek\"\n"
     ]
    },
    {
     "data": {
      "text/html": [
       "102989.269230769"
      ],
      "text/latex": [
       "102989.269230769"
      ],
      "text/markdown": [
       "102989.269230769"
      ],
      "text/plain": [
       "[1] 102989.3"
      ]
     },
     "metadata": {},
     "output_type": "display_data"
    },
    {
     "name": "stdout",
     "output_type": "stream",
     "text": [
      "[1] \"sprzedaz powyzej mediany sprzedazy jajek\"\n"
     ]
    },
    {
     "data": {
      "text/html": [
       "98798"
      ],
      "text/latex": [
       "98798"
      ],
      "text/markdown": [
       "98798"
      ],
      "text/plain": [
       "[1] 98798"
      ]
     },
     "metadata": {},
     "output_type": "display_data"
    },
    {
     "name": "stdout",
     "output_type": "stream",
     "text": [
      "[1] \"Cena wolowiny\"\n"
     ]
    },
    {
     "data": {
      "text/html": [
       "148.493461538462"
      ],
      "text/latex": [
       "148.493461538462"
      ],
      "text/markdown": [
       "148.493461538462"
      ],
      "text/plain": [
       "[1] 148.4935"
      ]
     },
     "metadata": {},
     "output_type": "display_data"
    },
    {
     "data": {
      "text/html": [
       "147.304230769231"
      ],
      "text/latex": [
       "147.304230769231"
      ],
      "text/markdown": [
       "147.304230769231"
      ],
      "text/plain": [
       "[1] 147.3042"
      ]
     },
     "metadata": {},
     "output_type": "display_data"
    },
    {
     "name": "stdout",
     "output_type": "stream",
     "text": [
      "[1] \"cena wieprzowiny\"\n"
     ]
    },
    {
     "data": {
      "text/html": [
       "164.385"
      ],
      "text/latex": [
       "164.385"
      ],
      "text/markdown": [
       "164.385"
      ],
      "text/plain": [
       "[1] 164.385"
      ]
     },
     "metadata": {},
     "output_type": "display_data"
    },
    {
     "data": {
      "text/html": [
       "151.649230769231"
      ],
      "text/latex": [
       "151.649230769231"
      ],
      "text/markdown": [
       "151.649230769231"
      ],
      "text/plain": [
       "[1] 151.6492"
      ]
     },
     "metadata": {},
     "output_type": "display_data"
    },
    {
     "name": "stdout",
     "output_type": "stream",
     "text": [
      "[1] \"cena kurczaka\"\n"
     ]
    },
    {
     "data": {
      "text/html": [
       "66.3721153846154"
      ],
      "text/latex": [
       "66.3721153846154"
      ],
      "text/markdown": [
       "66.3721153846154"
      ],
      "text/plain": [
       "[1] 66.37212"
      ]
     },
     "metadata": {},
     "output_type": "display_data"
    },
    {
     "data": {
      "text/html": [
       "65.3351923076923"
      ],
      "text/latex": [
       "65.3351923076923"
      ],
      "text/markdown": [
       "65.3351923076923"
      ],
      "text/plain": [
       "[1] 65.33519"
      ]
     },
     "metadata": {},
     "output_type": "display_data"
    },
    {
     "name": "stdout",
     "output_type": "stream",
     "text": [
      "[1] \"zboze\"\n"
     ]
    },
    {
     "data": {
      "text/html": [
       "116.704423076923"
      ],
      "text/latex": [
       "116.704423076923"
      ],
      "text/markdown": [
       "116.704423076923"
      ],
      "text/plain": [
       "[1] 116.7044"
      ]
     },
     "metadata": {},
     "output_type": "display_data"
    },
    {
     "data": {
      "text/html": [
       "116.886538461538"
      ],
      "text/latex": [
       "116.886538461538"
      ],
      "text/markdown": [
       "116.886538461538"
      ],
      "text/plain": [
       "[1] 116.8865"
      ]
     },
     "metadata": {},
     "output_type": "display_data"
    }
   ],
   "source": [
    "#wyliczam medianę zbioru cen jajek\n",
    "med_cases <- median(Eggs$Egg.Pr)\n",
    "med_cases\n",
    "\n",
    "#tworzę zbiór zawierające dane powyżej mediany\n",
    "above_med <- Eggs[Eggs$Egg.Pr>med_cases,]\n",
    "\n",
    "print('Ilosc danych powyzej i ponizej mediany')\n",
    "nrow(above_med)\n",
    "nrow(Eggs)\n",
    "#Ze 105 powyżej mediany są 52 przypadki, tylko nimi będę się zajmował, ponieważ chce dowiedzieć się\n",
    "#dlaczego sprzedaż była tak wysoka \n",
    "\n",
    "Easter_cases <- sum(above_med$Easter=='Pre Easter')\n",
    "print('Ilosc przed wielkanoca')\n",
    "Easter_cases\n",
    "#Ze 105 przypadków tylko 2 z nich były na Wielkanoc dlatego odrzucam jakiekolwiek powiązanie\n",
    "\n",
    "#Wyliczam średnią cenę z danych poniżej mediany i tych powyżej\n",
    "below_med <- Eggs[Eggs$Egg<med_cases,]\n",
    "\n",
    "below_Egg <- mean(below_med$Cases)\n",
    "\n",
    "above_Egg <- mean(above_med$Cases)\n",
    "\n",
    "print('sprzedaz ponizej mediany sprzedazy jajek')\n",
    "below_Egg\n",
    "\n",
    "print('sprzedaz powyzej mediany sprzedazy jajek')\n",
    "above_Egg\n",
    "#Średnia cena gdy sprzedaż była poniżej mediany wyniosła 96.09 a gdy była powyżej mediany wynosiła 93.54\n",
    "#Występuje więc zależność pomiędzy sprzedażą a ceną samych jajek\n",
    "\n",
    "#Sprawdzam te dane dla reszty produktów\n",
    "\n",
    "below_Beef <- mean(below_med$Beef.Pr)\n",
    "above_Beef <- mean(above_med$Beef.Pr)\n",
    "\n",
    "\n",
    "below_Pork <- mean(below_med$Pork.Pr)\n",
    "above_Pork <- mean(above_med$Pork.Pr)\n",
    "\n",
    "below_Chicken <- mean(below_med$Chicken.Pr)\n",
    "above_Chicken <- mean(above_med$Chicken.Pr)\n",
    "\n",
    "below_Cereal <- mean(below_med$Cereal.Pr)\n",
    "above_Cereal <- mean(above_med$Cereal.Pr)\n",
    "\n",
    "print('Cena wolowiny')\n",
    "below_Beef\n",
    "above_Beef\n",
    "\n",
    "print('cena wieprzowiny')\n",
    "below_Pork\n",
    "above_Pork\n",
    "\n",
    "print('cena kurczaka')\n",
    "below_Chicken\n",
    "above_Chicken\n",
    "\n",
    "print('zboze')\n",
    "below_Cereal\n",
    "above_Cereal\n",
    "\n",
    "\n"
   ]
  },
  {
   "cell_type": "code",
   "execution_count": 301,
   "id": "363c3508",
   "metadata": {},
   "outputs": [],
   "source": [
    "#podane powyzej zalezności pokazują, że największy wpływ na cenę jajek mają ceny wieprzowiny oraz \n",
    "#ilosc sprzedanych sztuk. Dokładnie ceny jajek rosną gdy cena wieprzowiny jest tania i ilość sprzedanych sztuk jest niska"
   ]
  },
  {
   "cell_type": "code",
   "execution_count": 451,
   "id": "0d8d5771",
   "metadata": {},
   "outputs": [
    {
     "data": {
      "text/html": [
       "<table>\n",
       "<thead><tr><th></th><th scope=col>X</th><th scope=col>Week</th><th scope=col>Month</th><th scope=col>First.Week</th><th scope=col>Easter</th><th scope=col>Cases</th><th scope=col>Egg.Pr</th><th scope=col>Beef.Pr</th><th scope=col>Pork.Pr</th><th scope=col>Chicken.Pr</th><th scope=col>Cereal.Pr</th></tr></thead>\n",
       "<tbody>\n",
       "\t<tr><th scope=row>41</th><td>41         </td><td>41         </td><td>April      </td><td>No         </td><td>Post Easter</td><td> 79869     </td><td>102.11     </td><td>152.48     </td><td>145.24     </td><td>68.38      </td><td>121.69     </td></tr>\n",
       "\t<tr><th scope=row>92</th><td>92         </td><td>92         </td><td>April      </td><td>No         </td><td>Post Easter</td><td> 72379     </td><td> 99.67     </td><td>152.34     </td><td>172.67     </td><td>65.06      </td><td>112.25     </td></tr>\n",
       "\t<tr><th scope=row>90</th><td>90         </td><td>90         </td><td>March      </td><td>No         </td><td>Pre Easter </td><td>120247     </td><td> 98.89     </td><td>158.89     </td><td>153.36     </td><td>63.28      </td><td>122.76     </td></tr>\n",
       "\t<tr><th scope=row>39</th><td>39         </td><td>39         </td><td>April      </td><td>Yes        </td><td>Pre Easter </td><td>142694     </td><td> 96.76     </td><td>153.41     </td><td>156.78     </td><td>57.79      </td><td>116.49     </td></tr>\n",
       "\t<tr><th scope=row>91</th><td>91         </td><td>91         </td><td>April      </td><td>Yes        </td><td>Easter     </td><td>169028     </td><td> 79.95     </td><td>145.41     </td><td>174.36     </td><td>67.61      </td><td>117.82     </td></tr>\n",
       "\t<tr><th scope=row>40</th><td>40         </td><td>40         </td><td>April      </td><td>No         </td><td>Easter     </td><td>188861     </td><td> 77.43     </td><td>151.90     </td><td>154.92     </td><td>66.01      </td><td>110.79     </td></tr>\n",
       "</tbody>\n",
       "</table>\n"
      ],
      "text/latex": [
       "\\begin{tabular}{r|lllllllllll}\n",
       "  & X & Week & Month & First.Week & Easter & Cases & Egg.Pr & Beef.Pr & Pork.Pr & Chicken.Pr & Cereal.Pr\\\\\n",
       "\\hline\n",
       "\t41 & 41          & 41          & April       & No          & Post Easter &  79869      & 102.11      & 152.48      & 145.24      & 68.38       & 121.69     \\\\\n",
       "\t92 & 92          & 92          & April       & No          & Post Easter &  72379      &  99.67      & 152.34      & 172.67      & 65.06       & 112.25     \\\\\n",
       "\t90 & 90          & 90          & March       & No          & Pre Easter  & 120247      &  98.89      & 158.89      & 153.36      & 63.28       & 122.76     \\\\\n",
       "\t39 & 39          & 39          & April       & Yes         & Pre Easter  & 142694      &  96.76      & 153.41      & 156.78      & 57.79       & 116.49     \\\\\n",
       "\t91 & 91          & 91          & April       & Yes         & Easter      & 169028      &  79.95      & 145.41      & 174.36      & 67.61       & 117.82     \\\\\n",
       "\t40 & 40          & 40          & April       & No          & Easter      & 188861      &  77.43      & 151.90      & 154.92      & 66.01       & 110.79     \\\\\n",
       "\\end{tabular}\n"
      ],
      "text/markdown": [
       "\n",
       "| <!--/--> | X | Week | Month | First.Week | Easter | Cases | Egg.Pr | Beef.Pr | Pork.Pr | Chicken.Pr | Cereal.Pr | \n",
       "|---|---|---|---|---|---|\n",
       "| 41 | 41          | 41          | April       | No          | Post Easter |  79869      | 102.11      | 152.48      | 145.24      | 68.38       | 121.69      | \n",
       "| 92 | 92          | 92          | April       | No          | Post Easter |  72379      |  99.67      | 152.34      | 172.67      | 65.06       | 112.25      | \n",
       "| 90 | 90          | 90          | March       | No          | Pre Easter  | 120247      |  98.89      | 158.89      | 153.36      | 63.28       | 122.76      | \n",
       "| 39 | 39          | 39          | April       | Yes         | Pre Easter  | 142694      |  96.76      | 153.41      | 156.78      | 57.79       | 116.49      | \n",
       "| 91 | 91          | 91          | April       | Yes         | Easter      | 169028      |  79.95      | 145.41      | 174.36      | 67.61       | 117.82      | \n",
       "| 40 | 40          | 40          | April       | No          | Easter      | 188861      |  77.43      | 151.90      | 154.92      | 66.01       | 110.79      | \n",
       "\n",
       "\n"
      ],
      "text/plain": [
       "   X  Week Month First.Week Easter      Cases  Egg.Pr Beef.Pr Pork.Pr\n",
       "41 41 41   April No         Post Easter  79869 102.11 152.48  145.24 \n",
       "92 92 92   April No         Post Easter  72379  99.67 152.34  172.67 \n",
       "90 90 90   March No         Pre Easter  120247  98.89 158.89  153.36 \n",
       "39 39 39   April Yes        Pre Easter  142694  96.76 153.41  156.78 \n",
       "91 91 91   April Yes        Easter      169028  79.95 145.41  174.36 \n",
       "40 40 40   April No         Easter      188861  77.43 151.90  154.92 \n",
       "   Chicken.Pr Cereal.Pr\n",
       "41 68.38      121.69   \n",
       "92 65.06      112.25   \n",
       "90 63.28      122.76   \n",
       "39 57.79      116.49   \n",
       "91 67.61      117.82   \n",
       "40 66.01      110.79   "
      ]
     },
     "metadata": {},
     "output_type": "display_data"
    }
   ],
   "source": [
    "sorted_eggs <- Eggs[order(-Eggs$Egg.Pr),]\n",
    "\n",
    "pre_easter <- sorted_eggs[sorted_eggs$Easter=='Post Easter' | sorted_eggs$Easter=='Easter' | sorted_eggs$Easter=='Pre Easter',]\n",
    "\n",
    "#Dodatkowo widac ze ceny powyzej mediany ceny jajek sa przed i po Wielkanocą \n",
    "pre_easter\n",
    "wykres <- Eggs\n",
    "\n",
    "#wpisuje 0 gdy nie było w okolicy Wielkanocy a 1 gdy było przed i po Wielkanocą w miejsce Easter\n",
    "wykres$Easter <- ifelse(sorted_eggs$Easter %in% c('Post Easter', 'Pre Easter'), 1, 0)\n"
   ]
  },
  {
   "cell_type": "code",
   "execution_count": 486,
   "id": "ed5effe5",
   "metadata": {},
   "outputs": [
    {
     "data": {},
     "metadata": {},
     "output_type": "display_data"
    },
    {
     "data": {
      "image/png": "[encoded data removed]",
      "text/plain": [
       "plot without title"
      ]
     },
     "metadata": {},
     "output_type": "display_data"
    }
   ],
   "source": [
    "# Przygotowanie danych\n",
    "rows <- c(1:nrow(wykres))\n",
    "eggs <- wykres$Egg.Pr/max(wykres$Egg.Pr)\n",
    "cases <- wykres$Cases/max(wykres$Cases)\n",
    "easter <- wykres$Easter\n",
    "pork <- wykres$Pork.Pr/max(wykres$Pork.Pr)\n",
    "\n",
    "library(ggplot2)\n",
    "\n",
    "# Tworzenie dataframe z danymi\n",
    "data <- data.frame(\n",
    "  rows = rows,\n",
    "  eggs = eggs,\n",
    "  cases = cases,\n",
    "  easter = easter,\n",
    "  pork = pork\n",
    ")\n",
    "\n",
    "\n",
    "ggplot(data, aes(x = rows)) +\n",
    "  geom_line(aes(y = eggs, color = \"Eggs\"), size = 1.1) +\n",
    "  geom_line(aes(y = cases, color = \"Cases\"), size = 1.1) +\n",
    "  geom_line(aes(y = pork, color = \"Pork\"), size = 1.1) +\n",
    "  geom_point(aes(y = easter, color = \"Easter\")) +\n",
    "  labs(x = \"X\", y = \"Dane\") +\n",
    "  ggtitle(\"Wykres zależności\") +\n",
    "  scale_color_manual(values = c(\"Eggs\" = \"blue\", \"Cases\" = \"red\", \"Pork\" = \"green\", \"Easter\" = \"black\")) +\n",
    "  guides(color = guide_legend(title = \"Grupa\")) +\n",
    "  coord_cartesian(ylim = c(0.4, 1))"
   ]
  },
  {
   "cell_type": "code",
   "execution_count": 488,
   "id": "c27fa016",
   "metadata": {},
   "outputs": [],
   "source": [
    "# Na wykresie widać, cena jajek ma związek z ilością transakcji, im jest ich więcej tym bardziej spada cena za jajka\n",
    "# W okresie przed i po wielkanocy cena jajek osiąga swoje maxima\n",
    "# Dodatkowo widać pewną zależność pomiędzy ceną wieprzowiny i ceną jajek. Gdy cena wieprzowiny jest niska cena jajek jest wysoka\n",
    "# i odwrotnie. "
   ]
  }
 ],
 "metadata": {
  "kernelspec": {
   "display_name": "R",
   "language": "R",
   "name": "ir"
  },
  "language_info": {
   "codemirror_mode": "r",
   "file_extension": ".r",
   "mimetype": "text/x-r-source",
   "name": "R",
   "pygments_lexer": "r",
   "version": "3.4.3"
  }
 },
 "nbformat": 4,
 "nbformat_minor": 5
}
